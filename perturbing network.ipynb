{
 "cells": [
  {
   "cell_type": "code",
   "execution_count": null,
   "metadata": {},
   "outputs": [],
   "source": [
    "import numpy as np"
   ]
  },
  {
   "cell_type": "code",
   "execution_count": null,
   "metadata": {},
   "outputs": [],
   "source": [
    "def data_generator(range_):\n",
    "    inputs = []\n",
    "    targets = []\n",
    "    for a in range(range_):\n",
    "        v = np.random.random(2)\n",
    "        targets.append(sum(v))\n",
    "        inputs.append(v)\n",
    "    return inputs,targets"
   ]
  },
  {
   "cell_type": "code",
   "execution_count": null,
   "metadata": {},
   "outputs": [],
   "source": [
    "inputs,targets = data_generator(200)\n",
    "print(inputs[0],targets[0])"
   ]
  },
  {
   "cell_type": "code",
   "execution_count": null,
   "metadata": {},
   "outputs": [],
   "source": [
    "class Model:\n",
    "    def __init__(self, input, hiddens, output, perturb_rate):\n",
    "        self.input = input\n",
    "        self.hiddens = hiddens\n",
    "        self.output = output\n",
    "\n",
    "        self.weights = []\n",
    "\n",
    "        self.layers = [input] + hiddens + [output]\n",
    "\n",
    "        weights = []\n",
    "        for i in range(len(self.layers) - 1):\n",
    "            weights.append(np.random.randn(self.layers[i], self.layers[i + 1]) * np.sqrt(2 / self.layers[i]))\n",
    "        self.weights = weights\n",
    "\n",
    "        self.perturb_rate = perturb_rate\n",
    "\n",
    "    def forward_pass(self, inputs):\n",
    "        activations = inputs\n",
    "        for index, weight in enumerate(self.weights):\n",
    "            net_inputs = np.dot(activations, weight)\n",
    "            if index != len(self.weights) - 1:\n",
    "                activations = self.activation(net_inputs)\n",
    "            else:\n",
    "                activations = net_inputs\n",
    "        return activations\n",
    "\n",
    "    def activation(self, inputs):\n",
    "        return np.maximum(0, inputs)\n",
    "\n",
    "    def perturb(self, error, input_, target):\n",
    "        for layer_index, weight in enumerate(self.weights):\n",
    "            original_weight = weight.copy()\n",
    "            for row in range(weight.shape[0]):\n",
    "                for col in range(weight.shape[1]):\n",
    "                    perturbation = np.random.randn() * self.perturb_rate\n",
    "                    weight[row, col] += perturbation\n",
    "\n",
    "                    new_output = self.forward_pass(input_)\n",
    "                    new_error = target - new_output\n",
    "                    improvement = np.sum(error ** 2 - new_error ** 2)\n",
    "\n",
    "                    if improvement > 0:\n",
    "                        pass  # Keep the perturbed weight\n",
    "                    else:\n",
    "                        weight[:, :] = original_weight[:, :]  # Revert to the original weight matrix\n",
    "\n",
    "    def train(self, epochs, inputs, targets):\n",
    "        for epoch in range(epochs):\n",
    "            sum_errors = 0\n",
    "            for i, input_ in enumerate(inputs):\n",
    "                target = targets[i]\n",
    "                output = self.forward_pass(input_)\n",
    "                error = target - output\n",
    "\n",
    "                self.perturb(error, input_, target)\n",
    "\n",
    "                mean_squared_error = np.average(error ** 2)\n",
    "                sum_errors += mean_squared_error\n",
    "\n",
    "            print(\"Error: {} at epoch {}\".format(sum_errors / len(inputs), epoch))\n"
   ]
  },
  {
   "cell_type": "code",
   "execution_count": null,
   "metadata": {},
   "outputs": [],
   "source": [
    "modell = Model(input=2,hiddens=[10,10],output=1,perturb_rate=0.001)\n",
    "modell.train(epochs=100,inputs=inputs,targets=targets)"
   ]
  },
  {
   "cell_type": "code",
   "execution_count": null,
   "metadata": {},
   "outputs": [],
   "source": [
    "modell.forward_pass([2.5,3])"
   ]
  },
  {
   "cell_type": "code",
   "execution_count": null,
   "metadata": {},
   "outputs": [],
   "source": []
  }
 ],
 "metadata": {
  "kernelspec": {
   "display_name": "Python 3",
   "language": "python",
   "name": "python3"
  },
  "language_info": {
   "codemirror_mode": {
    "name": "ipython",
    "version": 3
   },
   "file_extension": ".py",
   "mimetype": "text/x-python",
   "name": "python",
   "nbconvert_exporter": "python",
   "pygments_lexer": "ipython3",
   "version": "3.9.13"
  },
  "orig_nbformat": 4
 },
 "nbformat": 4,
 "nbformat_minor": 2
}
